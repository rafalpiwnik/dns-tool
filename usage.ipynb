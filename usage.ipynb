{
 "cells": [
  {
   "cell_type": "markdown",
   "source": [
    "### DNS-Tool usage"
   ],
   "metadata": {
    "collapsed": false,
    "pycharm": {
     "name": "#%% md\n"
    }
   }
  },
  {
   "cell_type": "code",
   "execution_count": 1,
   "metadata": {
    "collapsed": true
   },
   "outputs": [
    {
     "name": "stderr",
     "output_type": "stream",
     "text": [
      "usage: \tyahoo.com                -> A records for yahoo.com @1.1.1.1\n",
      "\tyahoo.com mx             -> MX record types, other params as above\n",
      "\tyahoo.com aaaa @8.8.8.8  -> AAAA record types @8.8.8.8\n",
      "\t. ns                     -> root name servers\n",
      "\tyahoo.com a --norecurse  -> non-recursive query\n",
      "\tyahoo.com mx --trace     -> recursive resolve for AAAA\n",
      "dns-tool.py: error: the following arguments are required: qname\n"
     ]
    }
   ],
   "source": [
    "!dns-tool.py"
   ]
  },
  {
   "cell_type": "markdown",
   "source": [
    "#### Request A resource records for cs.berkeley.edu domain name at default DNS 1.1.1.1"
   ],
   "metadata": {
    "collapsed": false,
    "pycharm": {
     "name": "#%% md\n"
    }
   }
  },
  {
   "cell_type": "code",
   "execution_count": 2,
   "outputs": [
    {
     "name": "stdout",
     "output_type": "stream",
     "text": [
      "Querying A cs.berkeley.edu @1.1.1.1...\n",
      "<<HEADER>> opcode: 0, status: RCode.NO_ERROR, id: 31342\n",
      "flags: RD RA #query: 1, #answer: 1, #authority: 0, #additional: 1\n",
      "<<QUESTION>>\n",
      "cs.berkeley.edu.                                      IN       A\n",
      "\n",
      "<<ANSWER>>\n",
      "cs.berkeley.edu.                           86400      IN       A        23.185.0.1\n",
      "\n",
      "<<AUTHORITY>>\n",
      "\n",
      "<<ADDITIONAL>>\n",
      ".                                              0    1232     OPT        \n",
      "\n"
     ]
    }
   ],
   "source": [
    "!dns-tool.py cs.berkeley.edu"
   ],
   "metadata": {
    "collapsed": false,
    "pycharm": {
     "name": "#%%\n"
    }
   }
  },
  {
   "cell_type": "markdown",
   "source": [
    "#### Same as above but for MX records"
   ],
   "metadata": {
    "collapsed": false,
    "pycharm": {
     "name": "#%% md\n"
    }
   }
  },
  {
   "cell_type": "code",
   "execution_count": 3,
   "outputs": [
    {
     "name": "stdout",
     "output_type": "stream",
     "text": [
      "Querying mx cs.berkeley.edu @1.1.1.1...\n",
      "<<HEADER>> opcode: 0, status: RCode.NO_ERROR, id: 19011\n",
      "flags: RD RA #query: 1, #answer: 5, #authority: 0, #additional: 1\n",
      "<<QUESTION>>\n",
      "cs.berkeley.edu.                                      IN      MX\n",
      "\n",
      "<<ANSWER>>\n",
      "cs.berkeley.edu.                           86400      IN      MX        alt1.aspmx.l.google.com\n",
      "cs.berkeley.edu.                           86400      IN      MX        aspmx.l.google.com\n",
      "cs.berkeley.edu.                           86400      IN      MX        alt4.aspmx.l.google.com\n",
      "cs.berkeley.edu.                           86400      IN      MX        alt3.aspmx.l.google.com\n",
      "cs.berkeley.edu.                           86400      IN      MX        alt2.aspmx.l.google.com\n",
      "\n",
      "<<AUTHORITY>>\n",
      "\n",
      "<<ADDITIONAL>>\n",
      ".                                              0    1232     OPT        \n",
      "\n"
     ]
    }
   ],
   "source": [
    "!dns-tool.py cs.berkeley.edu mx"
   ],
   "metadata": {
    "collapsed": false,
    "pycharm": {
     "name": "#%%\n"
    }
   }
  },
  {
   "cell_type": "markdown",
   "source": [
    "#### Query Google DNS server instead"
   ],
   "metadata": {
    "collapsed": false,
    "pycharm": {
     "name": "#%% md\n"
    }
   }
  },
  {
   "cell_type": "code",
   "source": [
    "!dns-tool.py cs.berkeley.edu @8.8.8.8"
   ],
   "metadata": {
    "collapsed": false,
    "pycharm": {
     "name": "#%%\n"
    }
   },
   "execution_count": 4,
   "outputs": [
    {
     "name": "stdout",
     "output_type": "stream",
     "text": [
      "Querying A cs.berkeley.edu @8.8.8.8...\n",
      "<<HEADER>> opcode: 0, status: RCode.NO_ERROR, id: 22348\n",
      "flags: RD RA #query: 1, #answer: 1, #authority: 0, #additional: 1\n",
      "<<QUESTION>>\n",
      "cs.berkeley.edu.                                      IN       A\n",
      "\n",
      "<<ANSWER>>\n",
      "cs.berkeley.edu.                           21600      IN       A        23.185.0.1\n",
      "\n",
      "<<AUTHORITY>>\n",
      "\n",
      "<<ADDITIONAL>>\n",
      ".                                              0     512     OPT        \n",
      "\n"
     ]
    }
   ]
  },
  {
   "cell_type": "markdown",
   "source": [
    "#### Additional resource record types (AAAA, CNAME)"
   ],
   "metadata": {
    "collapsed": false
   }
  },
  {
   "cell_type": "code",
   "execution_count": 5,
   "outputs": [
    {
     "name": "stdout",
     "output_type": "stream",
     "text": [
      "Querying aaaa www.facebook.com @8.8.8.8...\n",
      "<<HEADER>> opcode: 0, status: RCode.NO_ERROR, id: 42571\n",
      "flags: RD RA #query: 1, #answer: 2, #authority: 0, #additional: 1\n",
      "<<QUESTION>>\n",
      "www.facebook.com.                                     IN    AAAA\n",
      "\n",
      "<<ANSWER>>\n",
      "www.facebook.com.                           3562      IN   CNAME        star-mini.c10r.facebook.com\n",
      "star-mini.c10r.facebook.com.                  60      IN    AAAA        2a03:2880:f11c:8183:face:b00c:0:25de\n",
      "\n",
      "<<AUTHORITY>>\n",
      "\n",
      "<<ADDITIONAL>>\n",
      ".                                              0     512     OPT        \n",
      "\n"
     ]
    }
   ],
   "source": [
    "!dns-tool.py www.facebook.com aaaa @8.8.8.8"
   ],
   "metadata": {
    "collapsed": false,
    "pycharm": {
     "name": "#%%\n"
    }
   }
  },
  {
   "cell_type": "markdown",
   "source": [
    "#### Query for NS of .com domain @1.1.1.1"
   ],
   "metadata": {
    "collapsed": false,
    "pycharm": {
     "name": "#%% md\n"
    }
   }
  },
  {
   "cell_type": "code",
   "execution_count": 6,
   "outputs": [
    {
     "name": "stdout",
     "output_type": "stream",
     "text": [
      "Querying NS com @1.1.1.1...\n",
      "<<HEADER>> opcode: 0, status: RCode.NO_ERROR, id: 28380\n",
      "flags: RD RA #query: 1, #answer: 13, #authority: 0, #additional: 1\n",
      "<<QUESTION>>\n",
      "com.                                                  IN      NS\n",
      "\n",
      "<<ANSWER>>\n",
      "com.                                      164453      IN      NS        a.gtld-servers.net\n",
      "com.                                      164453      IN      NS        b.gtld-servers.net\n",
      "com.                                      164453      IN      NS        c.gtld-servers.net\n",
      "com.                                      164453      IN      NS        d.gtld-servers.net\n",
      "com.                                      164453      IN      NS        e.gtld-servers.net\n",
      "com.                                      164453      IN      NS        f.gtld-servers.net\n",
      "com.                                      164453      IN      NS        g.gtld-servers.net\n",
      "com.                                      164453      IN      NS        h.gtld-servers.net\n",
      "com.                                      164453      IN      NS        i.gtld-servers.net\n",
      "com.                                      164453      IN      NS        j.gtld-servers.net\n",
      "com.                                      164453      IN      NS        k.gtld-servers.net\n",
      "com.                                      164453      IN      NS        l.gtld-servers.net\n",
      "com.                                      164453      IN      NS        m.gtld-servers.net\n",
      "\n",
      "<<AUTHORITY>>\n",
      "\n",
      "<<ADDITIONAL>>\n",
      ".                                              0    1232     OPT        \n",
      "\n"
     ]
    }
   ],
   "source": [
    "!dns-tool.py com NS @1.1.1.1"
   ],
   "metadata": {
    "collapsed": false,
    "pycharm": {
     "name": "#%%\n"
    }
   }
  },
  {
   "cell_type": "markdown",
   "source": [
    "#### Recursive resolve (--trace)"
   ],
   "metadata": {
    "collapsed": false,
    "pycharm": {
     "name": "#%% md\n"
    }
   }
  },
  {
   "cell_type": "code",
   "execution_count": 7,
   "outputs": [
    {
     "name": "stdout",
     "output_type": "stream",
     "text": [
      "Querying NS . @1.1.1.1(Cloudflare)...\n",
      "<<HEADER>> opcode: 0, status: RCode.NO_ERROR, id: 1349\n",
      "flags: AA RA #query: 1, #answer: 13, #authority: 0, #additional: 27\n",
      "<<ANSWER>>\n",
      ".                                         514350      IN      NS        a.root-servers.net\n",
      ".                                         514350      IN      NS        b.root-servers.net\n",
      ".                                         514350      IN      NS        c.root-servers.net\n",
      ".                                         514350      IN      NS        d.root-servers.net\n",
      ".                                         514350      IN      NS        e.root-servers.net\n",
      ".                                         514350      IN      NS        f.root-servers.net\n",
      ".                                         514350      IN      NS        g.root-servers.net\n",
      ".                                         514350      IN      NS        h.root-servers.net\n",
      ".                                         514350      IN      NS        i.root-servers.net\n",
      ".                                         514350      IN      NS        j.root-servers.net\n",
      ".                                         514350      IN      NS        k.root-servers.net\n",
      ".                                         514350      IN      NS        l.root-servers.net\n",
      ".                                         514350      IN      NS        m.root-servers.net\n",
      "\n",
      "Querying A cs.berkeley.edu @199.7.83.42(l.root-servers.net)...\n",
      "<<HEADER>> opcode: 0, status: RCode.NO_ERROR, id: 42166\n",
      "flags: #query: 1, #answer: 0, #authority: 13, #additional: 27\n",
      "<<AUTHORITY>>\n",
      "edu.                                      172800      IN      NS        a.edu-servers.net\n",
      "edu.                                      172800      IN      NS        b.edu-servers.net\n",
      "edu.                                      172800      IN      NS        c.edu-servers.net\n",
      "edu.                                      172800      IN      NS        d.edu-servers.net\n",
      "edu.                                      172800      IN      NS        e.edu-servers.net\n",
      "edu.                                      172800      IN      NS        f.edu-servers.net\n",
      "edu.                                      172800      IN      NS        g.edu-servers.net\n",
      "edu.                                      172800      IN      NS        h.edu-servers.net\n",
      "edu.                                      172800      IN      NS        i.edu-servers.net\n",
      "edu.                                      172800      IN      NS        j.edu-servers.net\n",
      "edu.                                      172800      IN      NS        k.edu-servers.net\n",
      "edu.                                      172800      IN      NS        l.edu-servers.net\n",
      "edu.                                      172800      IN      NS        m.edu-servers.net\n",
      "\n",
      "Querying A cs.berkeley.edu @192.33.14.30(b.edu-servers.net)...\n",
      "<<HEADER>> opcode: 0, status: RCode.NO_ERROR, id: 57988\n",
      "flags: #query: 1, #answer: 0, #authority: 3, #additional: 5\n",
      "<<AUTHORITY>>\n",
      "berkeley.edu.                             172800      IN      NS        adns1.berkeley.edu\n",
      "berkeley.edu.                             172800      IN      NS        adns2.berkeley.edu\n",
      "berkeley.edu.                             172800      IN      NS        adns3.berkeley.edu\n",
      "\n",
      "Querying A cs.berkeley.edu @128.32.136.3(adns1.berkeley.edu)...\n",
      "<<HEADER>> opcode: 0, status: RCode.NO_ERROR, id: 46557\n",
      "flags: AA #query: 1, #answer: 1, #authority: 0, #additional: 1\n",
      "<<ANSWER>>\n",
      "cs.berkeley.edu.                           86400      IN       A        23.185.0.1\n",
      "\n"
     ]
    }
   ],
   "source": [
    "!dns-tool.py cs.berkeley.edu --trace"
   ],
   "metadata": {
    "collapsed": false,
    "pycharm": {
     "name": "#%%\n"
    }
   }
  },
  {
   "cell_type": "markdown",
   "source": [
    "#### Do not query recursively (--norecurse) @8.8.8.8"
   ],
   "metadata": {
    "collapsed": false,
    "pycharm": {
     "name": "#%% md\n"
    }
   }
  },
  {
   "cell_type": "code",
   "execution_count": 8,
   "outputs": [
    {
     "name": "stdout",
     "output_type": "stream",
     "text": [
      "Querying MX yahoo.com @1.1.1.1...\n",
      "<<HEADER>> opcode: 0, status: RCode.NO_ERROR, id: 36458\n",
      "flags: RA #query: 1, #answer: 3, #authority: 0, #additional: 1\n",
      "<<QUESTION>>\n",
      "yahoo.com.                                            IN      MX\n",
      "\n",
      "<<ANSWER>>\n",
      "yahoo.com.                                  1218      IN      MX        mta5.am0.yahoodns.net\n",
      "yahoo.com.                                  1218      IN      MX        mta7.am0.yahoodns.net\n",
      "yahoo.com.                                  1218      IN      MX        mta6.am0.yahoodns.net\n",
      "\n",
      "<<AUTHORITY>>\n",
      "\n",
      "<<ADDITIONAL>>\n",
      ".                                              0    1232     OPT        \n",
      "\n"
     ]
    }
   ],
   "source": [
    "!dns-tool.py yahoo.com MX --norecurse"
   ],
   "metadata": {
    "collapsed": false,
    "pycharm": {
     "name": "#%%\n"
    }
   }
  },
  {
   "cell_type": "markdown",
   "source": [
    "#### Specified DNS server unreachable"
   ],
   "metadata": {
    "collapsed": false,
    "pycharm": {
     "name": "#%% md\n"
    }
   }
  },
  {
   "cell_type": "code",
   "execution_count": 9,
   "outputs": [
    {
     "name": "stdout",
     "output_type": "stream",
     "text": [
      "Querying A yahoo.com @2.2.2.2...\n",
      "\tThe request timed out\n"
     ]
    }
   ],
   "source": [
    "!dns-tool.py yahoo.com @2.2.2.2"
   ],
   "metadata": {
    "collapsed": false,
    "pycharm": {
     "name": "#%%\n"
    }
   }
  },
  {
   "cell_type": "markdown",
   "source": [
    "#### Domain name not resolved --trace (SOA with AA flag set = authoritative answer - response code NXDOMAIN)"
   ],
   "metadata": {
    "collapsed": false,
    "pycharm": {
     "name": "#%% md\n"
    }
   }
  },
  {
   "cell_type": "code",
   "execution_count": 10,
   "outputs": [
    {
     "name": "stdout",
     "output_type": "stream",
     "text": [
      "Querying NS . @1.1.1.1(Cloudflare)...\n",
      "<<HEADER>> opcode: 0, status: RCode.NO_ERROR, id: 18477\n",
      "flags: AA RA #query: 1, #answer: 13, #authority: 0, #additional: 27\n",
      "<<ANSWER>>\n",
      ".                                         514921      IN      NS        a.root-servers.net\n",
      ".                                         514921      IN      NS        b.root-servers.net\n",
      ".                                         514921      IN      NS        c.root-servers.net\n",
      ".                                         514921      IN      NS        d.root-servers.net\n",
      ".                                         514921      IN      NS        e.root-servers.net\n",
      ".                                         514921      IN      NS        f.root-servers.net\n",
      ".                                         514921      IN      NS        g.root-servers.net\n",
      ".                                         514921      IN      NS        h.root-servers.net\n",
      ".                                         514921      IN      NS        i.root-servers.net\n",
      ".                                         514921      IN      NS        j.root-servers.net\n",
      ".                                         514921      IN      NS        k.root-servers.net\n",
      ".                                         514921      IN      NS        l.root-servers.net\n",
      ".                                         514921      IN      NS        m.root-servers.net\n",
      "\n",
      "Querying A foo.yahoo.com @202.12.27.33(m.root-servers.net)...\n",
      "<<HEADER>> opcode: 0, status: RCode.NO_ERROR, id: 10173\n",
      "flags: #query: 1, #answer: 0, #authority: 13, #additional: 27\n",
      "<<AUTHORITY>>\n",
      "com.                                      172800      IN      NS        h.gtld-servers.net\n",
      "com.                                      172800      IN      NS        d.gtld-servers.net\n",
      "com.                                      172800      IN      NS        b.gtld-servers.net\n",
      "com.                                      172800      IN      NS        i.gtld-servers.net\n",
      "com.                                      172800      IN      NS        e.gtld-servers.net\n",
      "com.                                      172800      IN      NS        f.gtld-servers.net\n",
      "com.                                      172800      IN      NS        k.gtld-servers.net\n",
      "com.                                      172800      IN      NS        g.gtld-servers.net\n",
      "com.                                      172800      IN      NS        c.gtld-servers.net\n",
      "com.                                      172800      IN      NS        l.gtld-servers.net\n",
      "com.                                      172800      IN      NS        j.gtld-servers.net\n",
      "com.                                      172800      IN      NS        a.gtld-servers.net\n",
      "com.                                      172800      IN      NS        m.gtld-servers.net\n",
      "\n",
      "Querying A foo.yahoo.com @192.5.6.30(a.gtld-servers.net)...\n",
      "<<HEADER>> opcode: 0, status: RCode.NO_ERROR, id: 18516\n",
      "flags: #query: 1, #answer: 0, #authority: 5, #additional: 10\n",
      "<<AUTHORITY>>\n",
      "yahoo.com.                                172800      IN      NS        ns1.yahoo.com\n",
      "yahoo.com.                                172800      IN      NS        ns5.yahoo.com\n",
      "yahoo.com.                                172800      IN      NS        ns2.yahoo.com\n",
      "yahoo.com.                                172800      IN      NS        ns3.yahoo.com\n",
      "yahoo.com.                                172800      IN      NS        ns4.yahoo.com\n",
      "\n",
      "Querying A foo.yahoo.com @68.142.255.16(ns2.yahoo.com)...\n",
      "<<HEADER>> opcode: 0, status: RCode.NXDOMAIN, id: 7851\n",
      "flags: AA #query: 1, #answer: 0, #authority: 1, #additional: 1\n",
      "<<AUTHORITY>>\n",
      "yahoo.com.                                   600      IN     SOA        ns1.yahoo.com.\thostmaster.yahoo-inc.com. 2022032402 300 1814400 600\n",
      "\n"
     ]
    }
   ],
   "source": [
    "!dns-tool.py foo.yahoo.com --trace"
   ],
   "metadata": {
    "collapsed": false,
    "pycharm": {
     "name": "#%%\n"
    }
   }
  },
  {
   "cell_type": "markdown",
   "source": [
    "#### Limitations:\n",
    "- Some records don't have implemented parsing logic (e.g. TXT) - but it could be implemented by introducing new RData class -> plain RDATA hex string is returned\n",
    "- Querying for some records is unsupported"
   ],
   "metadata": {
    "collapsed": false,
    "pycharm": {
     "name": "#%% md\n"
    }
   }
  },
  {
   "cell_type": "code",
   "execution_count": 11,
   "outputs": [
    {
     "name": "stdout",
     "output_type": "stream",
     "text": [
      "Querying TXT facebook.com @1.1.1.1...\n",
      "<<HEADER>> opcode: 0, status: RCode.NO_ERROR, id: 24523\n",
      "flags: RD RA #query: 1, #answer: 3, #authority: 0, #additional: 1\n",
      "<<QUESTION>>\n",
      "facebook.com.                                         IN     TXT\n",
      "\n",
      "<<ANSWER>>\n",
      "facebook.com.                               5547      IN     TXT        44676f6f676c652d736974652d766572696669636174696f6e3d4132575a57434e51487247565f5457774b68364b4859393074593053485a6f5f526e794d4a6f4461473073\n",
      "facebook.com.                              84747      IN     TXT        21763d737066312072656469726563743d5f7370662e66616365626f6f6b2e636f6d\n",
      "facebook.com.                               5547      IN     TXT        44676f6f676c652d736974652d766572696669636174696f6e3d7764483544544a54633941594e7756756e535646654b30685944475549454f47622d5252655536704a6c59\n",
      "\n",
      "<<AUTHORITY>>\n",
      "\n",
      "<<ADDITIONAL>>\n",
      ".                                              0    1232     OPT        \n",
      "\n"
     ]
    }
   ],
   "source": [
    "!dns-tool.py facebook.com TXT"
   ],
   "metadata": {
    "collapsed": false,
    "pycharm": {
     "name": "#%%\n"
    }
   }
  },
  {
   "cell_type": "code",
   "execution_count": 12,
   "outputs": [
    {
     "name": "stdout",
     "output_type": "stream",
     "text": [
      "Querying DNAME yahoo.com @1.1.1.1...\n",
      "QType DNAME not supported\n"
     ]
    }
   ],
   "source": [
    "!dns-tool.py yahoo.com DNAME"
   ],
   "metadata": {
    "collapsed": false,
    "pycharm": {
     "name": "#%%\n"
    }
   }
  }
 ],
 "metadata": {
  "kernelspec": {
   "display_name": "Python 3",
   "language": "python",
   "name": "python3"
  },
  "language_info": {
   "codemirror_mode": {
    "name": "ipython",
    "version": 2
   },
   "file_extension": ".py",
   "mimetype": "text/x-python",
   "name": "python",
   "nbconvert_exporter": "python",
   "pygments_lexer": "ipython2",
   "version": "2.7.6"
  }
 },
 "nbformat": 4,
 "nbformat_minor": 0
}