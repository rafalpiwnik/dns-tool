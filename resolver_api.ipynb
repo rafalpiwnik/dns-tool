{
 "cells": [
  {
   "cell_type": "code",
   "execution_count": 1,
   "metadata": {
    "collapsed": true
   },
   "outputs": [],
   "source": [
    "import socket\n",
    "import binascii\n",
    "\n",
    "from resolver.packet import DnsMessage, DnsQuestion, DnsResourceRecord\n",
    "from resolver.record_type import QType, QClass\n",
    "from resolver.utility import to_qname\n",
    "from resolver.buffer import ByteBuffer"
   ]
  },
  {
   "cell_type": "markdown",
   "source": [
    "### Creating and receiving custom DNS datagrams with resolver.packet\n",
    "#### resolver module introduces ORM-like layer for creating, parsing, sending and receiving DNS datagrams"
   ],
   "metadata": {
    "collapsed": false,
    "pycharm": {
     "name": "#%% md\n"
    }
   }
  },
  {
   "cell_type": "code",
   "execution_count": 2,
   "outputs": [
    {
     "data": {
      "text/plain": "DNS Message: DnsHeader(ID=43690, response=False, opcode=0, authoritative_answer=False, truncation=False, recursion_desired=True, recursion_available=False, Z=2, response_code=<RCode.NO_ERROR: 0>, qdcount=0, ancount=0, nscount=0, arcount=0)"
     },
     "execution_count": 2,
     "metadata": {},
     "output_type": "execute_result"
    }
   ],
   "source": [
    "# Empty message is created with default DNS datagram header\n",
    "msg = DnsMessage()\n",
    "msg"
   ],
   "metadata": {
    "collapsed": false,
    "pycharm": {
     "name": "#%%\n"
    }
   }
  },
  {
   "cell_type": "code",
   "execution_count": 3,
   "outputs": [
    {
     "data": {
      "text/plain": "DnsHeader(ID=43690, response=False, opcode=0, authoritative_answer=False, truncation=False, recursion_desired=False, recursion_available=False, Z=2, response_code=<RCode.NO_ERROR: 0>, qdcount=0, ancount=0, nscount=0, arcount=0)"
     },
     "execution_count": 3,
     "metadata": {},
     "output_type": "execute_result"
    }
   ],
   "source": [
    "# Header can be accessed and modified\n",
    "msg.header.recursion_desired = False\n",
    "msg.header"
   ],
   "metadata": {
    "collapsed": false,
    "pycharm": {
     "name": "#%%\n"
    }
   }
  },
  {
   "cell_type": "code",
   "execution_count": 4,
   "outputs": [
    {
     "data": {
      "text/plain": "[cs.berkeley.edu.: type: QType.AAAA, class: QClass.IN]"
     },
     "execution_count": 4,
     "metadata": {},
     "output_type": "execute_result"
    }
   ],
   "source": [
    "# To add a question to the datagram instantiate DNSQuestion with desired parameters and add it to the message\n",
    "msg.add_question(\n",
    "    DnsQuestion(name=\"cs.berkeley.edu\", qtype=QType.AAAA)\n",
    ")\n",
    "msg.question"
   ],
   "metadata": {
    "collapsed": false,
    "pycharm": {
     "name": "#%%\n"
    }
   }
  },
  {
   "cell_type": "code",
   "execution_count": 5,
   "outputs": [
    {
     "data": {
      "text/plain": "[.: type: QType.OPT, class: 4096 data: ]"
     },
     "execution_count": 5,
     "metadata": {},
     "output_type": "execute_result"
    }
   ],
   "source": [
    "# This system supports OPT pseudo records for accepting DNS datagrams larger than 512 bytes in size\n",
    "msg.add_pseudo_record(udp_payload_size=4096)\n",
    "msg.additional"
   ],
   "metadata": {
    "collapsed": false,
    "pycharm": {
     "name": "#%%\n"
    }
   }
  },
  {
   "cell_type": "code",
   "source": [
    "# Any DNS resource record can also be added in similar way\n",
    "# First prepare RDATA payload:\n",
    "ns_rdata = \"m.edu-servers.net.\"\n",
    "encoded_domain_name = to_qname(domain_name=ns_rdata)\n",
    "encoded_domain_name"
   ],
   "metadata": {
    "collapsed": false,
    "pycharm": {
     "name": "#%%\n"
    }
   },
   "execution_count": 6,
   "outputs": [
    {
     "data": {
      "text/plain": "'016d0b6564752d73657276657273036e657400'"
     },
     "execution_count": 6,
     "metadata": {},
     "output_type": "execute_result"
    }
   ]
  },
  {
   "cell_type": "code",
   "execution_count": 7,
   "outputs": [],
   "source": [
    "from resolver.record_type import RData\n",
    "\n",
    "# Prepare DnsResourceRecord instance\n",
    "ns_resource = DnsResourceRecord(\n",
    "    name=\"edu\",\n",
    "    qtype=QType.NS,\n",
    "    qclass=QClass.IN,\n",
    "    ttl=172800,\n",
    "    rdata=RData(data=encoded_domain_name),\n",
    "    rdlength=(len(encoded_domain_name) // 2)\n",
    ")"
   ],
   "metadata": {
    "collapsed": false,
    "pycharm": {
     "name": "#%%\n"
    }
   }
  },
  {
   "cell_type": "code",
   "execution_count": 8,
   "outputs": [
    {
     "data": {
      "text/plain": "[edu: type: QType.NS, class: QClass.IN data: 016d0b6564752d73657276657273036e657400]"
     },
     "execution_count": 8,
     "metadata": {},
     "output_type": "execute_result"
    }
   ],
   "source": [
    "# Add resource record to the message\n",
    "msg.add_resource_record(ns_resource, section=\"answer\")\n",
    "msg.answer"
   ],
   "metadata": {
    "collapsed": false,
    "pycharm": {
     "name": "#%%\n"
    }
   }
  },
  {
   "cell_type": "code",
   "execution_count": 9,
   "outputs": [
    {
     "data": {
      "text/plain": "'m.edu-servers.net'"
     },
     "execution_count": 9,
     "metadata": {},
     "output_type": "execute_result"
    }
   ],
   "source": [
    "# QName data can be translated back to human-readable format with ByteBuffer which provides a way for parsing encoded qnames:\n",
    "buffer = ByteBuffer(binascii.unhexlify(ns_resource.rdata.data))\n",
    "name = buffer.read_qname()\n",
    "name"
   ],
   "metadata": {
    "collapsed": false,
    "pycharm": {
     "name": "#%%\n"
    }
   }
  },
  {
   "cell_type": "code",
   "execution_count": 10,
   "outputs": [
    {
     "name": "stdout",
     "output_type": "stream",
     "text": [
      "<<HEADER>> opcode: 0, status: RCode.NO_ERROR, id: 43690\n",
      "flags: #query: 1, #answer: 1, #authority: 0, #additional: 1\n",
      "<<QUESTION>>\n",
      "cs.berkeley.edu.                                      IN    AAAA\n",
      "\n",
      "<<ANSWER>>\n",
      "edu.                                      172800      IN      NS        016d0b6564752d73657276657273036e657400\n",
      "\n",
      "<<AUTHORITY>>\n",
      "\n",
      "<<ADDITIONAL>>\n",
      "..                                             0    4096     OPT        \n",
      "\n"
     ]
    }
   ],
   "source": [
    "# The entire datagram can be viewed at any point in time:\n",
    "msg.print_concise_info()"
   ],
   "metadata": {
    "collapsed": false,
    "pycharm": {
     "name": "#%%\n"
    }
   }
  },
  {
   "cell_type": "code",
   "execution_count": 11,
   "outputs": [],
   "source": [
    "# We will remove NS record added in answer section as it would result in a response with server failure flag. We will also set flag RD=True to get an answer\n",
    "msg.answer = []\n",
    "msg.header.ancount = 0\n",
    "msg.header.recursion_desired = True"
   ],
   "metadata": {
    "collapsed": false,
    "pycharm": {
     "name": "#%%\n"
    }
   }
  },
  {
   "cell_type": "code",
   "execution_count": 12,
   "outputs": [
    {
     "data": {
      "text/plain": "b'\\xaa\\xaa\\x01 \\x00\\x01\\x00\\x00\\x00\\x00\\x00\\x01\\x02cs\\x08berkeley\\x03edu\\x00\\x00\\x1c\\x00\\x01\\x00\\x00)\\x10\\x00\\x00\\x00\\x00\\x00\\x00\\x00'"
     },
     "execution_count": 12,
     "metadata": {},
     "output_type": "execute_result"
    }
   ],
   "source": [
    "# Finally, DNSMessage can be translated into DNS datagram\n",
    "payload = msg.build_bytes()\n",
    "payload"
   ],
   "metadata": {
    "collapsed": false,
    "pycharm": {
     "name": "#%%\n"
    }
   }
  },
  {
   "cell_type": "code",
   "execution_count": 13,
   "outputs": [],
   "source": [
    "# And sent with UDP to specified DNS server\n",
    "server = (\"1.1.1.1\", 53)\n",
    "sock = socket.socket(socket.AF_INET, socket.SOCK_DGRAM)\n",
    "try:\n",
    "    sock.sendto(msg.build_bytes(), server)\n",
    "    data, _ = sock.recvfrom(4096)\n",
    "finally:\n",
    "    sock.close()"
   ],
   "metadata": {
    "collapsed": false,
    "pycharm": {
     "name": "#%%\n"
    }
   }
  },
  {
   "cell_type": "code",
   "execution_count": 14,
   "outputs": [
    {
     "data": {
      "text/plain": "b'\\xaa\\xaa\\x81\\x80\\x00\\x01\\x00\\x01\\x00\\x00\\x00\\x01\\x02cs\\x08berkeley\\x03edu\\x00\\x00\\x1c\\x00\\x01\\xc0\\x0c\\x00\\x1c\\x00\\x01\\x00\\x01Q\\x80\\x00\\x10& \\x01*\\x80\\x01\\x00\\x00\\x00\\x00\\x00\\x00\\x00\\x00\\x00\\x01\\x00\\x00)\\x04\\xd0\\x00\\x00\\x00\\x00\\x00\\x00'"
     },
     "execution_count": 14,
     "metadata": {},
     "output_type": "execute_result"
    }
   ],
   "source": [
    "# The result is another DNS Datagram\n",
    "data"
   ],
   "metadata": {
    "collapsed": false,
    "pycharm": {
     "name": "#%%\n"
    }
   }
  },
  {
   "cell_type": "code",
   "execution_count": 15,
   "outputs": [
    {
     "name": "stdout",
     "output_type": "stream",
     "text": [
      "<<HEADER>> opcode: 0, status: RCode.NO_ERROR, id: 43690\n",
      "flags: RD RA #query: 1, #answer: 1, #authority: 0, #additional: 1\n",
      "<<QUESTION>>\n",
      "cs.berkeley.edu.                                      IN    AAAA\n",
      "\n",
      "<<ANSWER>>\n",
      "cs.berkeley.edu.                           86400      IN    AAAA        2620:12a:8001::1\n",
      "\n",
      "<<AUTHORITY>>\n",
      "\n",
      "<<ADDITIONAL>>\n",
      ".                                              0    1232     OPT        \n",
      "\n"
     ]
    }
   ],
   "source": [
    "# Which can be parsed to get results back\n",
    "response = DnsMessage().from_bytes(data)\n",
    "response.print_concise_info()"
   ],
   "metadata": {
    "collapsed": false,
    "pycharm": {
     "name": "#%%\n"
    }
   }
  },
  {
   "cell_type": "code",
   "execution_count": 16,
   "outputs": [
    {
     "data": {
      "text/plain": "'aaaa01200002000000000002057961686f6f03636f6d00000100010000290404000000000000'"
     },
     "execution_count": 16,
     "metadata": {},
     "output_type": "execute_result"
    }
   ],
   "source": [
    "# Class and method layout allows for chaining to facilitate a fluent-like API\n",
    "datagram_plain = DnsMessage().add_question(\n",
    "    DnsQuestion(\"yahoo.com\")\n",
    ").add_pseudo_record(udp_payload_size=1028).build()\n",
    "datagram_plain"
   ],
   "metadata": {
    "collapsed": false,
    "pycharm": {
     "name": "#%%\n"
    }
   }
  },
  {
   "cell_type": "markdown",
   "source": [
    "#### Resolver module can be extended to process any resource record or pseudo record\n",
    "#### As it can both create, parse and manipulate DNS datagrams it could be used as a full-fledged DNS server when implemented with record caching mechanism"
   ],
   "metadata": {
    "collapsed": false,
    "pycharm": {
     "name": "#%% md\n"
    }
   }
  }
 ],
 "metadata": {
  "kernelspec": {
   "display_name": "Python 3",
   "language": "python",
   "name": "python3"
  },
  "language_info": {
   "codemirror_mode": {
    "name": "ipython",
    "version": 2
   },
   "file_extension": ".py",
   "mimetype": "text/x-python",
   "name": "python",
   "nbconvert_exporter": "python",
   "pygments_lexer": "ipython2",
   "version": "2.7.6"
  }
 },
 "nbformat": 4,
 "nbformat_minor": 0
}